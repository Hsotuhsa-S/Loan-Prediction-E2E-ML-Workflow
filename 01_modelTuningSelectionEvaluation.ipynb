{
 "cells": [
  {
   "cell_type": "markdown",
   "id": "introduction",
   "metadata": {},
   "source": [
    "# Loan Approval Classification: Model Tuning, Selection & Evaluation\n",
    "\n",
    "**Project:** Data Science/ML Practice  \n",
    "**Objective:** Compare, tune, and evaluate two tree-based classification models (Random Forest and Gradient Boosting) for loan approval prediction. Save the best-performing model for deployment."
   ]
  },
  {
   "cell_type": "markdown",
   "id": "step1-load-data",
   "metadata": {},
   "source": [
    "## 1. Load and Prepare Data\n",
    "\n",
    "Load the cleaned data from Notebook 1. Identify numeric and categorical features. Set up the target variable."
   ]
  },
  {
   "cell_type": "code",
   "execution_count": 1,
   "id": "load-data",
   "metadata": {},
   "outputs": [
    {
     "name": "stdout",
     "output_type": "stream",
     "text": [
      "Categorical features: ['person_gender', 'person_education', 'person_home_ownership', 'loan_intent', 'previous_loan_defaults_on_file']\n",
      "Numeric features: ['person_age', 'person_income', 'person_emp_exp', 'loan_amnt', 'loan_int_rate', 'loan_percent_income', 'cb_person_cred_hist_length', 'credit_score']\n"
     ]
    }
   ],
   "source": [
    "# Import necessary libraries\n",
    "import pandas as pd\n",
    "import numpy as np\n",
    "from sklearn.model_selection import train_test_split, StratifiedKFold, GridSearchCV, cross_val_score\n",
    "from sklearn.preprocessing import OneHotEncoder\n",
    "from sklearn.compose import ColumnTransformer\n",
    "from sklearn.pipeline import Pipeline\n",
    "from sklearn.ensemble import RandomForestClassifier, GradientBoostingClassifier\n",
    "from sklearn.metrics import roc_auc_score, roc_curve, confusion_matrix, accuracy_score, precision_score, recall_score, f1_score\n",
    "import matplotlib.pyplot as plt\n",
    "import seaborn as sns\n",
    "import joblib\n",
    "\n",
    "# Load cleaned data\n",
    "data = pd.read_csv('data/loanApproval/cleanLoanApprovalData.csv')\n",
    "\n",
    "# Set target and features\n",
    "target_col = 'loan_status'\n",
    "X = data.drop(columns=target_col)\n",
    "y = data[target_col].astype(int)  # Convert bool to int for sklearn compatibility\n",
    "\n",
    "# Identify feature types\n",
    "categorical_features = X.select_dtypes(include=['object', 'category']).columns.tolist()\n",
    "numeric_features = X.select_dtypes(include=[np.number, 'bool']).columns.tolist()\n",
    "\n",
    "print(f\"Categorical features: {categorical_features}\")\n",
    "print(f\"Numeric features: {numeric_features}\")"
   ]
  },
  {
   "cell_type": "markdown",
   "id": "step2-split",
   "metadata": {},
   "source": [
    "## 2. Train/Test Split\n",
    "Purpose: Split data so model evaluation is honest and stratified."
   ]
  },
  {
   "cell_type": "code",
   "execution_count": 2,
   "id": "split-data",
   "metadata": {},
   "outputs": [
    {
     "name": "stdout",
     "output_type": "stream",
     "text": [
      "Train size: 36000, Test size: 9000\n"
     ]
    }
   ],
   "source": [
    "# Train/test split\n",
    "X_train, X_test, y_train, y_test = train_test_split(\n",
    "    X, y, test_size=0.2, stratify=y, random_state=42\n",
    ")\n",
    "print(f\"Train size: {X_train.shape[0]}, Test size: {X_test.shape[0]}\")"
   ]
  },
  {
   "cell_type": "markdown",
   "id": "step3-encoding",
   "metadata": {},
   "source": [
    "## 3. Preprocessing Pipeline\n",
    "One-hot encode categoricals. No scaling required for tree models."
   ]
  },
  {
   "cell_type": "code",
   "execution_count": 3,
   "id": "preprocessing-pipeline",
   "metadata": {},
   "outputs": [],
   "source": [
    "# Preprocessing for tree models: only one-hot encoding for categoricals\n",
    "categorical_transformer = Pipeline([\n",
    "    ('onehot', OneHotEncoder(handle_unknown='ignore', sparse_output=False))\n",
    "])\n",
    "preprocessor = ColumnTransformer(transformers=[\n",
    "    ('cat', categorical_transformer, categorical_features)\n",
    "], remainder='passthrough')"
   ]
  },
  {
   "cell_type": "markdown",
   "id": "step4-model-pipeline",
   "metadata": {},
   "source": [
    "## 4. Model Pipelines and Hyperparameter Grids\n",
    "Define Random Forest and Gradient Boosting models. Set up tuning grids."
   ]
  },
  {
   "cell_type": "code",
   "execution_count": 4,
   "id": "model-pipelines",
   "metadata": {},
   "outputs": [],
   "source": [
    "# Define models and hyperparameter grids\n",
    "models = {\n",
    "    \"RandomForest\": {\n",
    "        \"estimator\": Pipeline([\n",
    "            (\"preprocessor\", preprocessor),\n",
    "            (\"classifier\", RandomForestClassifier(n_estimators=200, random_state=42, class_weight='balanced'))\n",
    "        ]),\n",
    "        \"param_grid\": {\n",
    "            \"classifier__max_features\": [\"sqrt\", \"log2\"],\n",
    "            \"classifier__min_samples_split\": [2, 5, 10]\n",
    "        },\n",
    "        \"results\": {}\n",
    "    },\n",
    "    \"GradientBoosting\": {\n",
    "        \"estimator\": Pipeline([\n",
    "            (\"preprocessor\", preprocessor),\n",
    "            (\"classifier\", GradientBoostingClassifier(n_estimators=200, random_state=42))\n",
    "        ]),\n",
    "        \"param_grid\": {\n",
    "            \"classifier__max_features\": [\"sqrt\", \"log2\"],\n",
    "            \"classifier__min_samples_split\": [2, 5, 10]\n",
    "        },\n",
    "        \"results\": {}\n",
    "    }\n",
    "}\n",
    "\n",
    "# Stratified cross-validation for imbalanced data\n",
    "cv = StratifiedKFold(n_splits=5, shuffle=True, random_state=42)"
   ]
  },
  {
   "cell_type": "markdown",
   "id": "step5-train-eval-fn",
   "metadata": {},
   "source": [
    "## 5. Model Training, Tuning, Evaluation\n",
    "Train models with cross-validation, tune parameters, and evaluate."
   ]
  },
  {
   "cell_type": "code",
   "execution_count": 5,
   "id": "train-eval-fn",
   "metadata": {},
   "outputs": [],
   "source": [
    "def train_and_evaluate(model_name, model_dict, X_train, X_test, y_train, y_test, categorical_features):\n",
    "    \"\"\"Train and evaluate a model, storing metrics and best params.\"\"\"\n",
    "    print(f\"\\n==== {model_name} ====\")\n",
    "    grid = GridSearchCV(model_dict[\"estimator\"], model_dict[\"param_grid\"], cv=cv, scoring=\"roc_auc\", n_jobs=-1, return_train_score=True)\n",
    "    grid.fit(X_train, y_train)\n",
    "    model_dict[\"grid\"] = grid\n",
    "    model_dict[\"results\"][\"best_params\"] = grid.best_params_\n",
    "    model_dict[\"results\"][\"best_cv_auc\"] = grid.best_score_\n",
    "    print(\"Best params:\", grid.best_params_)\n",
    "    print(\"Best CV ROC-AUC:\", grid.best_score_)\n",
    "    \n",
    "    # Test set evaluation\n",
    "    y_pred = grid.predict(X_test)\n",
    "    y_proba = grid.predict_proba(X_test)[:,1]\n",
    "    model_dict[\"results\"][\"test_auc\"] = roc_auc_score(y_test, y_proba)\n",
    "    model_dict[\"results\"][\"test_accuracy\"] = accuracy_score(y_test, y_pred)\n",
    "    model_dict[\"results\"][\"test_precision\"] = precision_score(y_test, y_pred)\n",
    "    model_dict[\"results\"][\"test_recall\"] = recall_score(y_test, y_pred)\n",
    "    model_dict[\"results\"][\"test_f1\"] = f1_score(y_test, y_pred)\n",
    "    model_dict[\"results\"][\"confusion_matrix\"] = confusion_matrix(y_test, y_pred)\n",
    "    print(\"Test set AUC:\", model_dict[\"results\"][\"test_auc\"])\n",
    "    \n",
    "    # Cross-validated AUCs for visualization\n",
    "    model_dict[\"results\"][\"cv_aucs\"] = cross_val_score(grid.best_estimator_, X_train, y_train, cv=cv, scoring=\"roc_auc\")\n",
    "    print(\"Cross-validated AUCs:\", model_dict[\"results\"][\"cv_aucs\"])\n",
    "    \n",
    "    # Feature importance (Random Forest/Gradient Boosting)\n",
    "    importances = grid.best_estimator_.named_steps['classifier'].feature_importances_\n",
    "    ohe = grid.best_estimator_.named_steps['preprocessor'].named_transformers_['cat'].named_steps['onehot']\n",
    "    cat_names = ohe.get_feature_names_out(categorical_features) if categorical_features else []\n",
    "    all_feature_names = list(cat_names) + [col for col in X_train.columns if col not in categorical_features]\n",
    "    importance_df = pd.DataFrame({\"feature\": all_feature_names, \"importance\": importances})\n",
    "    importance_df = importance_df.sort_values('importance', ascending=False)\n",
    "    print(\"\\nTop Features by importance:\\n\", importance_df.head(10))\n",
    "    model_dict[\"results\"][\"feature_importance\"] = importance_df\n",
    "    return model_dict"
   ]
  },
  {
   "cell_type": "markdown",
   "id": "step6-train-models",
   "metadata": {},
   "source": [
    "## 6. Train and Evaluate Both Models"
   ]
  },
  {
   "cell_type": "code",
   "execution_count": 6,
   "id": "train-models",
   "metadata": {},
   "outputs": [
    {
     "name": "stdout",
     "output_type": "stream",
     "text": [
      "\n",
      "==== RandomForest ====\n",
      "Best params: {'classifier__max_features': 'sqrt', 'classifier__min_samples_split': 2}\n",
      "Best CV ROC-AUC: 0.9729975892857142\n",
      "Test set AUC: 0.974614642857143\n",
      "Cross-validated AUCs: [0.97238242 0.96947695 0.97566535 0.97272734 0.97473588]\n",
      "\n",
      "Top Features by importance:\n",
      "                                feature  importance\n",
      "17   previous_loan_defaults_on_file_no    0.204885\n",
      "18  previous_loan_defaults_on_file_yes    0.199090\n",
      "23                       loan_int_rate    0.124370\n",
      "24                 loan_percent_income    0.105986\n",
      "20                       person_income    0.088615\n",
      "22                           loan_amnt    0.045251\n",
      "26                        credit_score    0.044193\n",
      "19                          person_age    0.025732\n",
      "10          person_home_ownership_rent    0.024574\n",
      "21                      person_emp_exp    0.023396\n",
      "\n",
      "==== GradientBoosting ====\n",
      "Best params: {'classifier__max_features': 'sqrt', 'classifier__min_samples_split': 2}\n",
      "Best CV ROC-AUC: 0.9720955468749999\n",
      "Test set AUC: 0.9728708214285715\n",
      "Cross-validated AUCs: [0.9717173  0.96815402 0.97364141 0.97255441 0.9744106 ]\n",
      "\n",
      "Top Features by importance:\n",
      "                                feature  importance\n",
      "17   previous_loan_defaults_on_file_no    0.285671\n",
      "24                 loan_percent_income    0.149769\n",
      "18  previous_loan_defaults_on_file_yes    0.147559\n",
      "23                       loan_int_rate    0.143408\n",
      "20                       person_income    0.110734\n",
      "10          person_home_ownership_rent    0.062887\n",
      "22                           loan_amnt    0.021857\n",
      "7       person_home_ownership_mortgage    0.021218\n",
      "26                        credit_score    0.013214\n",
      "9            person_home_ownership_own    0.012291\n"
     ]
    }
   ],
   "source": [
    "for name in models:\n",
    "    train_and_evaluate(\n",
    "        name,\n",
    "        models[name],\n",
    "        X_train,\n",
    "        X_test,\n",
    "        y_train,\n",
    "        y_test,\n",
    "        categorical_features\n",
    "    )"
   ]
  },
  {
   "cell_type": "markdown",
   "id": "step7-eval-visual",
   "metadata": {},
   "source": [
    "## 7. Model Comparison: Visualize ROC and CV AUCs"
   ]
  },
  {
   "cell_type": "code",
   "execution_count": 7,
   "id": "visualize-results",
   "metadata": {},
   "outputs": [
    {
     "data": {
      "image/png": "[encoded data removed]",
      "text/plain": [
       "<Figure size 800x600 with 1 Axes>"
      ]
     },
     "metadata": {},
     "output_type": "display_data"
    },
    {
     "data": {
      "image/png": "[encoded data removed]",
      "text/plain": [
       "<Figure size 700x400 with 1 Axes>"
      ]
     },
     "metadata": {},
     "output_type": "display_data"
    }
   ],
   "source": [
    "# ROC curves for both models\n",
    "plt.figure(figsize=(8,6))\n",
    "for name, model in models.items():\n",
    "    grid = model[\"grid\"]\n",
    "    y_proba = grid.predict_proba(X_test)[:,1]\n",
    "    fpr, tpr, _ = roc_curve(y_test, y_proba)\n",
    "    auc = roc_auc_score(y_test, y_proba)\n",
    "    plt.plot(fpr, tpr, label=f\"{name} (AUC: {auc:.2f})\")\n",
    "plt.plot([0,1],[0,1],'--', color='gray')\n",
    "plt.xlabel(\"False Positive Rate\")\n",
    "plt.ylabel(\"True Positive Rate\")\n",
    "plt.title(\"ROC Curves\")\n",
    "plt.legend()\n",
    "plt.show()\n",
    "\n",
    "# Boxplot of CV AUCs\n",
    "cv_auc_dict = {name: model[\"results\"][\"cv_aucs\"] for name, model in models.items() if \"cv_aucs\" in model[\"results\"]}\n",
    "cv_auc_df = pd.DataFrame(cv_auc_dict)\n",
    "plt.figure(figsize=(7,4))\n",
    "sns.boxplot(data=cv_auc_df)\n",
    "plt.ylabel(\"ROC-AUC (CV)\")\n",
    "plt.title(\"Model ROC-AUC Resampling Distribution\")\n",
    "plt.tight_layout()\n",
    "plt.show()"
   ]
  },
  {
   "cell_type": "markdown",
   "id": "step8-summary-metrics",
   "metadata": {},
   "source": [
    "## 8. Summary Table: Model Metrics"
   ]
  },
  {
   "cell_type": "code",
   "execution_count": 8,
   "id": "summary-table",
   "metadata": {},
   "outputs": [
    {
     "name": "stdout",
     "output_type": "stream",
     "text": [
      "\n",
      "Model Performance Metrics:\n",
      "               Model  Test AUC  Accuracy  Precision  Recall        F1\n",
      "0      RandomForest  0.974615  0.929667   0.902770   0.766  0.828780\n",
      "1  GradientBoosting  0.972871  0.926556   0.880182   0.775  0.824249\n"
     ]
    }
   ],
   "source": [
    "metrics = []\n",
    "for name, model in models.items():\n",
    "    r = model[\"results\"]\n",
    "    metrics.append({\n",
    "        \"Model\": name,\n",
    "        \"Test AUC\": r[\"test_auc\"],\n",
    "        \"Accuracy\": r[\"test_accuracy\"],\n",
    "        \"Precision\": r[\"test_precision\"],\n",
    "        \"Recall\": r[\"test_recall\"],\n",
    "        \"F1\": r[\"test_f1\"]\n",
    "    })\n",
    "summary = pd.DataFrame(metrics)\n",
    "print(\"\\nModel Performance Metrics:\\n\", summary)"
   ]
  },
  {
   "cell_type": "markdown",
   "id": "step9-save-best-model",
   "metadata": {},
   "source": [
    "## 9. Save the Best Model\n",
    "Select and save the best-performing model (highest ROC-AUC)."
   ]
  },
  {
   "cell_type": "code",
   "execution_count": 9,
   "id": "save-model",
   "metadata": {},
   "outputs": [
    {
     "name": "stdout",
     "output_type": "stream",
     "text": [
      "Best model (RandomForest) saved to data/loanApproval/Loan_RandomForest_pipeline.pkl\n"
     ]
    }
   ],
   "source": [
    "# Select best model by test ROC-AUC\n",
    "best_model_name = summary.sort_values(by='Test AUC', ascending=False).iloc[0]['Model']\n",
    "best_pipeline = models[best_model_name][\"grid\"].best_estimator_\n",
    "model_path = f'data/loanApproval/Loan_{best_model_name}_pipeline.pkl'\n",
    "joblib.dump(best_pipeline, model_path)\n",
    "print(f\"Best model ({best_model_name}) saved to {model_path}\")"
   ]
  },
  {
   "cell_type": "markdown",
   "id": "step10-conclusion",
   "metadata": {},
   "source": [
    "## Conclusion\n",
    "- Both Random Forest and Gradient Boosting models were trained, tuned and evaluated.\n",
    "- The best-performing model Random Forest(by ROC-AUC) was saved for deployment.\n",
    "- Feature importance and evaluation metrics can be reviewed above.\n",
    "\n",
    "### Next Steps\n",
    "- Deploy the saved model to Hugging Face or another serving platform as needed.\n",
    "- Use modular code and templates for future ML projects."
   ]
  }
 ],
 "metadata": {
  "kernelspec": {
   "display_name": "Python 3",
   "language": "python",
   "name": "python3"
  },
  "language_info": {
   "codemirror_mode": {
    "name": "ipython",
    "version": 3
   },
   "file_extension": ".py",
   "mimetype": "text/x-python",
   "name": "python",
   "nbconvert_exporter": "python",
   "pygments_lexer": "ipython3",
   "version": "3.13.0"
  },
  "nbformat": 4,
  "nbformat_minor": 5
 },
 "nbformat": 4,
 "nbformat_minor": 5
}
